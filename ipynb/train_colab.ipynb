{
 "cells": [
  {
   "cell_type": "code",
   "execution_count": null,
   "outputs": [],
   "source": [
    "!git clone -b dev --single-branch https://github.com/switiz/xray"
   ],
   "metadata": {
    "collapsed": false,
    "pycharm": {
     "name": "#%%\n"
    }
   }
  },
  {
   "cell_type": "code",
   "execution_count": null,
   "outputs": [],
   "source": [
    "from google.colab import drive\n",
    "drive.mount('/content/drive')"
   ],
   "metadata": {
    "collapsed": false,
    "pycharm": {
     "name": "#%%\n"
    }
   }
  },
  {
   "cell_type": "code",
   "execution_count": null,
   "metadata": {
    "collapsed": true
   },
   "outputs": [],
   "source": [
    "######[IMPORT MODULE]#######\n",
    "from xray.Utils import xrayDataLoader as x_loader\n",
    "from xray.Utils.logger import log\n",
    "import os\n",
    "import random\n",
    "import numpy as np\n",
    "import torch\n",
    "import matplotlib.pyplot as plt\n",
    "\n",
    "######[GOLBAL VLAUE]#######\n",
    "# Logger\n",
    "Tag = 'Train'\n",
    "\n",
    "# parameters\n",
    "train_batch_size = 32\n",
    "\n",
    "\n",
    "def check_dir(path):\n",
    "    if path == 'colab':\n",
    "        train_data_dir = '/content/drive/' + 'Shared drives' + '/YS_NW/2.Data/Train/Data'\n",
    "        train_coco = '/content/drive/Shared drives/YS_NW/2.Data/Train/Meta/CoCo/coco_rapiscan.json'\n",
    "    elif path == 'google_drive':\n",
    "        train_data_dir = 'G:/공유 드라이브/YS_NW/2.Data/Train/Data'\n",
    "        train_coco = 'G:/공유 드라이브/YS_NW/2.Data/Train/Meta/CoCo/coco_rapiscan.json'\n",
    "    else:\n",
    "        train_data_dir = '/data/jiylee/dataset/xray/Train/Data'\n",
    "        train_coco = '/data/jiylee/dataset/xray/Train/Meta/CoCo/coco_rapiscan.json'\n",
    "\n",
    "    return train_data_dir, train_coco\n",
    "\n",
    "\n",
    "def get_data_loader():\n",
    "    train_data_dir, train_data_coco = check_dir(LOCATION_PATH)\n",
    "    _data_loader = x_loader.XrayDataLoader(root=train_data_dir, annotation=train_data_coco,\n",
    "                                          batch_size=train_batch_size).get_data_loader()\n",
    "    log(Tag, 'get_data_loader: loader make complete, total dataset : ' + str(len(data_loader.dataset)))\n",
    "    return _data_loader\n",
    "\n",
    "\n",
    "# show image\n",
    "def show_image(sample_img, sample_anno):\n",
    "    plt.imshow(sample_img)\n",
    "\n",
    "    # bbox\n",
    "    bb = np.array(sample_anno[\"boxes\"], dtype=np.float32)\n",
    "    for j in range(len(bb)):\n",
    "        line = plt.Rectangle((bb[j][0], bb[j][1]), bb[j][2] - bb[j][0], bb[j][3] - bb[j][1], color=\"red\", fill=False,\n",
    "                             lw=1)\n",
    "        plt.gca().add_patch(line)\n",
    "\n",
    "    return plt\n",
    "\n",
    "def check_dataset(data_loader):\n",
    "    sample = random.sample(range(0, len(data_loader) - 1), 3)\n",
    "    for i in sample:\n",
    "\n",
    "        sample_img = np.array(data_loader[i][0].permute(1, 2, 0), dtype=np.float32)\n",
    "        sample_anno = data_loader[i][1]\n",
    "\n",
    "        show_image(sample_img, sample_anno)\n",
    "        plt.show()\n",
    "\n",
    "        if i == 3:\n",
    "            break\n",
    "\n",
    "if __name__ == '__main__':\n",
    "    # location\n",
    "    LOCATION_PATH = 'google_drive'\n",
    "    device = torch.device('cuda') if torch.cuda.is_available() else torch.device('cpu')\n",
    "    data_loader = get_data_loader()\n",
    "    check_dataset(data_loader)"
   ]
  }
 ],
 "metadata": {
  "kernelspec": {
   "display_name": "Python 3",
   "language": "python",
   "name": "python3"
  },
  "language_info": {
   "codemirror_mode": {
    "name": "ipython",
    "version": 2
   },
   "file_extension": ".py",
   "mimetype": "text/x-python",
   "name": "python",
   "nbconvert_exporter": "python",
   "pygments_lexer": "ipython2",
   "version": "2.7.6"
  }
 },
 "nbformat": 4,
 "nbformat_minor": 0
}