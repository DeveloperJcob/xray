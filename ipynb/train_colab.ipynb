{
 "cells": [
  {
   "cell_type": "code",
   "execution_count": null,
   "outputs": [],
   "source": [
    "!git clone -b dev --single-branch https://github.com/switiz/xray"
   ],
   "metadata": {
    "collapsed": false,
    "pycharm": {
     "name": "#%%\n"
    }
   }
  },
  {
   "cell_type": "code",
   "execution_count": null,
   "outputs": [],
   "source": [
    "from google.colab import drive\n",
    "drive.mount('/content/drive')"
   ],
   "metadata": {
    "collapsed": false,
    "pycharm": {
     "name": "#%%\n"
    }
   }
  },
  {
   "cell_type": "code",
   "execution_count": null,
   "metadata": {
    "collapsed": true
   },
   "outputs": [],
   "source": [
    "import os\n",
    "from xray.Utils import XrayDataLoader as x_loader\n",
    "import torch\n",
    "\n",
    "#parameters\n",
    "train_batch_size = 32\n",
    "\n",
    "#location\n",
    "LOCATION_PATH = 'colab'\n",
    "\n",
    "def check_dir(path):\n",
    "    if path=='colab':\n",
    "        train_data_dir = '/content/drive/' + 'Shared drives' + '/YS_NW/2.Data/Train/Data'\n",
    "        train_coco = '/content/drive/Shared drives/YS_NW/2.Data/Train/Meta/CoCo/coco_rapiscan.json'\n",
    "    elif path =='google_drive':\n",
    "        train_data_dir = '/data/jiylee/dataset/xray/Train/Data'\n",
    "        train_coco = '/data/jiylee/dataset/xray/Train/Meta/CoCo/coco_rapiscan.json'\n",
    "    else :\n",
    "        train_data_dir = '/data/jiylee/dataset/xray/Train/Data'\n",
    "        train_coco = '/data/jiylee/dataset/xray/Train/Meta/CoCo/coco_rapiscan.json'\n",
    "\n",
    "    return train_data_dir, train_coco\n",
    "\n",
    "def train():\n",
    "    train_data_dir, train_data_coco = check_dir(LOCATION_PATH)\n",
    "    my_dataloader = x_loader.XrayDataLoader(root=train_data_dir, annotation=train_data_coco, batch_size=train_batch_size).get_data_loader()\n",
    "    print(len(my_dataloader.dataset))\n",
    "\n",
    "if __name__ == '__main__':\n",
    "    train()\n",
    "\n"
   ]
  }
 ],
 "metadata": {
  "kernelspec": {
   "display_name": "Python 3",
   "language": "python",
   "name": "python3"
  },
  "language_info": {
   "codemirror_mode": {
    "name": "ipython",
    "version": 2
   },
   "file_extension": ".py",
   "mimetype": "text/x-python",
   "name": "python",
   "nbconvert_exporter": "python",
   "pygments_lexer": "ipython2",
   "version": "2.7.6"
  }
 },
 "nbformat": 4,
 "nbformat_minor": 0
}